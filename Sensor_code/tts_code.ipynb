{
 "cells": [
  {
   "cell_type": "code",
   "execution_count": 39,
   "id": "88f9c4dc",
   "metadata": {},
   "outputs": [
    {
     "name": "stdout",
     "output_type": "stream",
     "text": [
      "Requirement already satisfied: playsound==1.2.2 in c:\\users\\iam_o\\anaconda3\\lib\\site-packages (1.2.2)\n"
     ]
    }
   ],
   "source": [
    "!pip install playsound==1.2.2"
   ]
  },
  {
   "cell_type": "code",
   "execution_count": 38,
   "id": "a161d57d",
   "metadata": {},
   "outputs": [],
   "source": [
    "from playsound import playsound\n",
    "\n",
    "voice1 = ('C://Users//iam_o//Speak.mp3')\n",
    "playsound(voice1)"
   ]
  }
 ],
 "metadata": {
  "kernelspec": {
   "display_name": "Python 3 (ipykernel)",
   "language": "python",
   "name": "python3"
  },
  "language_info": {
   "codemirror_mode": {
    "name": "ipython",
    "version": 3
   },
   "file_extension": ".py",
   "mimetype": "text/x-python",
   "name": "python",
   "nbconvert_exporter": "python",
   "pygments_lexer": "ipython3",
   "version": "3.9.13"
  }
 },
 "nbformat": 4,
 "nbformat_minor": 5
}
